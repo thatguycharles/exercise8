{
  "cells": [
    {
      "attachments": {},
      "cell_type": "markdown",
      "metadata": {
        "colab_type": "text",
        "id": "view-in-github"
      },
      "source": [
        "<a href=\"https://colab.research.google.com/github/CompModNervSystem/CompModNervSys-CableAxon/blob/main/CompModNervSys_exercise8.ipynb\" target=\"_parent\"><img src=\"https://colab.research.google.com/assets/colab-badge.svg\" alt=\"Open In Colab\"/></a>"
      ]
    },
    {
      "attachments": {},
      "cell_type": "markdown",
      "metadata": {
        "id": "tSawaquoIBf9"
      },
      "source": [
        "# BIOL 74.03 (SP23): Computational Modeling of the Nervous System \n",
        "# Exercise 8: Simulating action potential propagation in myelinated and unmyelinated axons\n",
        "\n",
        "### Exercise goals\n",
        "\n",
        "1) Understand how voltages decay with distance according to the length constant \n",
        "\n",
        "2) Simulate AP propagation and calculate conduction velocity\n",
        "\n",
        "3) Explain why AP propagation is increased with diameter and with myelination\n",
        "\n",
        "\n",
        "Work through the code below, running each cell, adding code where required, and making sure you understand the output. When you see questions with <span style=\"color:red\">***Q:*** </span> preceding them, write your responses in text cells. \n"
      ]
    },
    {
      "attachments": {},
      "cell_type": "markdown",
      "metadata": {},
      "source": [
        "We'll first install neuron like last time"
      ]
    },
    {
      "cell_type": "code",
      "execution_count": null,
      "metadata": {},
      "outputs": [],
      "source": [
        "%pip install neuron # only need to run this cell once to install \n",
        "                    # neuron in the local jupyter environment"
      ]
    },
    {
      "attachments": {},
      "cell_type": "markdown",
      "metadata": {},
      "source": [
        "Import the packages we'll be using"
      ]
    },
    {
      "cell_type": "code",
      "execution_count": null,
      "metadata": {},
      "outputs": [],
      "source": [
        "from neuron import h # all NEURON hoc functions are accessed through h\n",
        "# from neuron import gui # if you're running this notebook in a local environment (instead of on google colab), launches the GUI\n",
        "h.load_file('stdrun.hoc') # loads neuron standard hoc library, not always necessary \n",
        "import numpy as np\n",
        "import matplotlib.pyplot as plt\n",
        "from plotly.subplots import make_subplots\n",
        "import plotly.graph_objects as go"
      ]
    },
    {
      "attachments": {},
      "cell_type": "markdown",
      "metadata": {},
      "source": [
        "# Voltage decay in a passive axon\n",
        "\n",
        "Let's start by making an axon model, similar to the previous exercise, but this time using more than 1 segment (`nseg` > 1). Now, the axon is no longer *isopotential* or *space-clamped* (as in the HH experiments), meaning the voltage can vary along the length. \n",
        "\n",
        "This raisees the question of how to set `nseg`, or in other words, how many numerical segments should be used? Similar to the time step for discretizing time, reducing the segment size (by increasing the number of segments) increases accuracy but with higher computational cost (simulations will take longer to run). One rule of thumb is called the *d_lambda rule*, which uses a term called the frequency dependent space constant $\\lambda_{f}$. This is similar to the one we derived in class, but it incorporates the effect of the frequency of signals on their spatial attenuation. The d_lambda rule gives the biggest segment size $\\Delta x$ to use for the frequency dependent length constant at a frequency of interest, given by:\n",
        "\n",
        "$\\Delta x \\leq 0.1*\\lambda_{f} = 0.1*\\sqrt \\frac{d}{4 \\pi f \\rho_{i}c_{m}}$.\n",
        "\n",
        "Here, $d$ is diameter, $f$ is frequency, $\\rho_{i}$ is specific resistance of the intracellular space, and $c_{m}$ is the specific membrane capacitance. Since the segment size is given by the section length $L$ divided by the number of segments `nseg` ($\\Delta x = L/nseg$), you can use this equation to set `nseg` by rearranging to $nseg >= L/\\Delta x$. \n",
        "\n",
        "Our first model will be *passive* and linear, meaning there are no voltage-gated conductances (which produce *active*, nonlinear currents). The axon will have a diameter of $5 \\; \\mu m$ and length of $3 \\; mm$. \n",
        "\n",
        "For its biophysical properties, we'll then insert the `pas` mechanism, which includes `g_pas` and `e_pas`. The specific membrane capacitance `cm` is $1 \\; \\mu F / cm^{2}$ `g_pas` is $5 \\cdot 10^{-4} S/cm^{2}$, and `e_pas` is 0 $mV$ (so we can visualize changes in $V_{m}$ from rest more easily). Finally, we'll also have to set a parameter we didn't use before, the axial resistance. In NEURON, this is given by the parameter `Ra`, which is equivalent to the *resistivity* $\\rho$ used above and in class, with units $\\Omega \\cdot cm$. We'll set `Ra` to 200 $\\Omega \\cdot cm$. "
      ]
    },
    {
      "attachments": {},
      "cell_type": "markdown",
      "metadata": {},
      "source": [
        "Before we create our neuron model, write a function below to compute the maximum segment length using the d_lambda rule given above. Calculate the maximum segment length for the axon parameters given above and a frequency of 100 $Hz$ (reasonable for most neural signals we'd simulate)."
      ]
    },
    {
      "cell_type": "code",
      "execution_count": null,
      "metadata": {},
      "outputs": [],
      "source": [
        "def d_lambda(f,d,Ra,cm):\n",
        "    # f - freequency in Hz\n",
        "    # d - diameter in um (multiply by 1e-4 to convert to cm)\n",
        "    # Ra - axial resistance in Ohm*cm\n",
        "    # cm - membrane capacitance in uF/cm2 (multiply by 1e-6 to convert to F/cm2)\n",
        "    lambda_f = # your code goes here\n",
        "    deltax = 0.1*lambda_f*1e4 # deltax in um\n",
        "    return  # add return \n",
        "\n",
        "\n"
      ]
    },
    {
      "attachments": {},
      "cell_type": "markdown",
      "metadata": {},
      "source": [
        "You should get a number close to 16 segments (if you get stuck here, move on to the later steps with the `nseg` given below). This gives us a lower limit for the number of segments to use and obtain reasonably accurate results. To give ourselves a higher spatial resolution for visualizing the voltage profile along the axon, let's use 5 times this value, so 81 (round up to an odd number). \n",
        "\n",
        "Now, use the parameters defined above to create your axon model by filling in the code below. You'll notice we use a for loop to set the biophysical parameters in each segment since we now have more than one segment in our axon *section*. As you may have gathered, this means these values can in general vary along an axon, allowing for complex models capturing variations in electrical properties within a neuron's morphology. "
      ]
    },
    {
      "cell_type": "code",
      "execution_count": null,
      "metadata": {},
      "outputs": [],
      "source": [
        "axon = h.Section(name='axon')\n",
        "# Model geometry\n",
        "# fill in code\n",
        "axon.diam =  # um\n",
        "axon.L =  # um\n",
        "axon.nseg = \n",
        "# Model biophysics\n",
        "axon.insert() # add insert \n",
        "axon.Ra =  # Ohm cm\n",
        "for seg in axon:\n",
        "    seg.cm = 1 # uF/cm2\n",
        "    seg.pas.g = 5e-4 # S/cm2\n",
        "    seg.pas.e = 0 # mV"
      ]
    },
    {
      "attachments": {},
      "cell_type": "markdown",
      "metadata": {},
      "source": [
        "Now we have our axon model, what do we want to do with it? First, let's simulate the case of an intracellular current injection at the middle of our axon. This should give us some intuition for how signals decay within linear cables, which are relevant to both axons and dendrites. For the latter case, you can imagine a synaptic input generating a postsynpatic current somewhere along a dendrite, which would create some voltage profile along the cell and leading back to the soma. We'll simulate this explicitly in exercise 9, but hopefully that gives you an idea of why this is an important place to start.\n",
        "\n",
        "Create a current clamp that's inserted at the middle segment. Set it's duration to $15 \\; ms$, delay to $2 \\; ms$, and amplitude to $1 \\; nA$. For recording, we'll want to record the voltage over time at each of our compartments. The list comprehension in the code cell below shows how to generate an python list of NEURON vectors to record the voltage over time at each compartment. I also define a helper function `get_closest_index` that returns the index of a vector closest to a value you input. This can be used to get the segment position closest to any position you input (between 0 and 1), or the index of the time point closest to any time point you input."
      ]
    },
    {
      "cell_type": "code",
      "execution_count": null,
      "metadata": {},
      "outputs": [],
      "source": [
        "# Create current clamp\n",
        "\n",
        "\n",
        "# Create recordings\n",
        "t_vec = h.Vector() # time vector\n",
        "t_vec.record(h._ref_t)\n",
        "V_vecs = [h.Vector().record(seg._ref_v) for seg in axon] # creates vector and records voltage at each segment of section\n",
        "x_vals = np.array([seg.x for seg in axon]) # normalized position (x) along axon for each segment, ranges from 0 to 1\n",
        "\n",
        "# Define helper function to get index of recording for any position along axon\n",
        "def get_closest_index(vec,val):\n",
        "    # finds closest value to x in x_vals vector, outputs index    \n",
        "    # if x>1, outputs index for x = 1, and if x<0, outputs index for x = 0\n",
        "    return np.argmin(np.abs(vec-val))"
      ]
    },
    {
      "attachments": {},
      "cell_type": "markdown",
      "metadata": {},
      "source": [
        "Now to run a similation, we just need to specify the simulation settings. These are the initial voltage `h.v_init`, time step `h.dt`, duration `h.tstop`, and temperature `h.celsius`. Set the initial voltage to $0 \\; mV$, time step to $0.01 \\; ms$, duration to $30 \\; ms$, and temperature to $20^{\\circ} C$. There are no ion channels in this model, so the temperature won't affect anything, but we'll set it now for future use. \n",
        "\n",
        "Once these are set, run the simulation and plot the voltage over time at `x = 0.5`, `x = 0.25`, and `x = 0.75`. "
      ]
    },
    {
      "cell_type": "code",
      "execution_count": null,
      "metadata": {},
      "outputs": [],
      "source": [
        "h.v_init = \n",
        "h.steps_per_ms = 1/.01 # ensures dt can be set to desired value \n",
        "h.dt = 0.01\n",
        "h.tstop = \n",
        "h.celsius = 20\n",
        "\n",
        "h.run()\n",
        "\n",
        "# Plot\n",
        "plot_x_vals = [0.4,0.5,0.6]\n",
        "\n",
        "fig = make_subplots()\n",
        "for x in plot_x_vals:\n",
        "    fig.add_trace(go.Scatter(x=t_vec,y=V_vecs[get_closest_index(x_vals,x)],name='Vm(x={})'.format(x)))\n",
        "fig['layout']['xaxis']['title']='time (ms)'\n",
        "fig.update_yaxes(title_text=\"Vm (mV)\")\n"
      ]
    },
    {
      "attachments": {},
      "cell_type": "markdown",
      "metadata": {},
      "source": [
        "You should see an exponential charge up and decay in all compartments, similar to what we've seen for the single compartment RC model. But, now the steady state voltage achieved at the electrode location (`x = 0.5`) is clearly higher than locations on either side. Let's visualize how this spatial distribution evolves over time by plotting the voltage vs. position (`x`) at time $t$ = $3 \\; ms$, $5 \\; ms$, and $15 \\; ms$ (remember the pulse starts at $2 \\; ms$). In a second plot, plot the normalized voltage vs. position (`x`) by dividing the voltage by its max value. "
      ]
    },
    {
      "cell_type": "code",
      "execution_count": null,
      "metadata": {},
      "outputs": [],
      "source": [
        "plot_t_vals = [3,5,15]\n",
        "V_vecs_arr = [np.array(v) for v in V_vecs] \n",
        "V_vecs_arr = np.array(V_vecs_arr).T # convert to number of time points x number of segments matrix\n",
        "\n",
        "\n",
        "# Plot V vs. x\n",
        "fig = make_subplots()\n",
        "for t in plot_t_vals:\n",
        "    Vt = V_vecs_arr[get_closest_index(np.array(t_vec),t),:]\n",
        "    fig.add_trace(go.Scatter(x=x_vals*axon.L,y=Vt,name='Vm(t={})'.format(t)))\n",
        "fig['layout']['xaxis']['title']='position (um)'\n",
        "fig.update_yaxes(title_text=\"Vm (mV)\")\n",
        "fig.show()\n",
        "# Plot V norm vs. x\n",
        "\n"
      ]
    },
    {
      "attachments": {},
      "cell_type": "markdown",
      "metadata": {},
      "source": [
        "<span style=\"color:red\">***Q1:***  How does the spatial profile of voltage differ over time? \n",
        "</span>"
      ]
    },
    {
      "cell_type": "markdown",
      "metadata": {},
      "source": []
    },
    {
      "attachments": {},
      "cell_type": "markdown",
      "metadata": {},
      "source": [
        "<span style=\"color:red\">***Q2:*** Is the spatial decay of $V$ at t = 3 or 5 ms described well by the length constant we derived in class ($\\lambda = \\sqrt r_{m}/r_{i}$)?\n",
        "</span>"
      ]
    },
    {
      "cell_type": "markdown",
      "metadata": {},
      "source": []
    },
    {
      "attachments": {},
      "cell_type": "markdown",
      "metadata": {},
      "source": [
        "<span style=\"color:red\">***Bonus Q:*** Calculate the length constant for this axon. How does this compare to the distance from the current source at which the voltage is 36.7% of it's max value for t = 15 ms (our empirical definition of the length constant)? \n",
        "</span>"
      ]
    },
    {
      "cell_type": "markdown",
      "metadata": {},
      "source": []
    },
    {
      "attachments": {},
      "cell_type": "markdown",
      "metadata": {},
      "source": [
        "Now that we've seen how voltage evolves over time and decays in space, let's gain a deeper understanding of how the neuron's parameters determine the spatiotemporal voltage profile for a current input. We'll focus on the axon's diameter (`diam`), membrane resistance (`1/g_pas`), and axial resistivity (`Ra`) and see how varying these parameters by a factor of 0.2 or 5 affects the steady state voltage distribution. Finish the code block below, taking some time to understand what each section is doing, and answer the questions below. "
      ]
    },
    {
      "cell_type": "code",
      "execution_count": null,
      "metadata": {},
      "outputs": [],
      "source": [
        "# your code goes here\n",
        "t_ss =  # ms - steady state time to extract\n",
        "scaling_factors = [] # list of scaling factors\n",
        "# Effect of diameter\n",
        "diam0 = 5 # um - initial diameter (um)\n",
        "Vss_diams = []\n",
        "for f in scaling_factors:\n",
        "    axon.diam = diam0*f\n",
        "    h.run()\n",
        "    V_vecs_arr = np.array([np.array(v) for v in V_vecs]).T # convert to number of time points x number of segments matrix\n",
        "    Vss_diams.append( V_vecs_arr[get_closest_index(np.array(t_vec),t_ss),:])\n",
        "\n",
        "axon.diam = diam0 \n",
        "\n",
        "# Effect of Rm\n",
        "Rm0 = 1/5e-4 # initial membrane resistance (Ohm*cm^2)\n",
        "Vss_Rms = []\n",
        "for f in scaling_factors:\n",
        "    axon.g_pas = 1/(Rm0*f)\n",
        "    h.run()\n",
        "    V_vecs_arr = np.array([np.array(v) for v in V_vecs]).T # convert to number of time points x number of segments matrix\n",
        "    Vss_Rms.append( V_vecs_arr[get_closest_index(np.array(t_vec),t_ss),:])\n",
        "\n",
        "axon.g_pas = 1/Rm0 \n",
        "\n",
        "# Effect of Ra\n",
        "Ra0 = 200 # initial axial resistivity (Ohm*cm)\n",
        "Vss_Ras = []\n",
        "for f in scaling_factors:\n",
        "    axon.Ra = Ra0*f\n",
        "    h.run()\n",
        "    V_vecs_arr = np.array([np.array(v) for v in V_vecs]).T # convert to number of time points x number of segments matrix\n",
        "    Vss_Ras.append( V_vecs_arr[get_closest_index(np.array(t_vec),t_ss),:])\n",
        "\n",
        "axon.Ra = Ra0 \n",
        "\n",
        "# Plot\n",
        "var_names = ['Diameter','Rm','Ra']\n",
        "Vss_all = [Vss_diams,Vss_Rms,Vss_Ras]\n",
        "for Vss,name in zip(Vss_all,var_names):    \n",
        "    fig = make_subplots(rows = 1,cols = 1)\n",
        "    for Vssi,f in zip(Vss,scaling_factors):\n",
        "        fig.add_trace(go.Scatter(x=x_vals,y=Vssi,showlegend=True,name='x{}'.format(f)))\n",
        "    fig.update_layout(title=name)\n",
        "    fig['layout']['yaxis']['title'] = 'V (mV)'\n",
        "    fig['layout']['xaxis']['title'] = 'x (um)'\n",
        "    # fig.update_layout(height=1000)\n",
        "    fig.show()"
      ]
    },
    {
      "attachments": {},
      "cell_type": "markdown",
      "metadata": {},
      "source": [
        "<span style=\"color:red\">***Q3:*** How do the diameter, membrane resistance, and axial resistance affect the peak steady state voltage? Explain the reason for these trends by referencing the input resistance, discussed in class. \n",
        "</span>"
      ]
    },
    {
      "cell_type": "markdown",
      "metadata": {},
      "source": []
    },
    {
      "attachments": {},
      "cell_type": "markdown",
      "metadata": {},
      "source": [
        "<span style=\"color:red\">***Q4:*** How do the diameter, membrane resistance, and axial resistance affect the relative decay of the voltage with length (in other words, the length constant)? It may help to plot `Vssi/Vssi.max()` so all the curves are normalized to their maxes. \n",
        "</span>"
      ]
    },
    {
      "cell_type": "markdown",
      "metadata": {},
      "source": []
    },
    {
      "attachments": {},
      "cell_type": "markdown",
      "metadata": {},
      "source": [
        "## AP propagation in unmyelinated and myelinated axons\n",
        "\n",
        "Let's now turn to an active axon model, again using the Hodgkin-Huxley model for ionic currents. \n",
        "\n",
        "We'll start with an unmyelinated axon model.\n",
        "\n",
        "Below, create a new axon with a diameter of $10 \\; \\mu m$ and length of $5 \\; mm$. Again, set `nseg` to 55. \n",
        "\n",
        "For its biophysical properties, insert the `hh` mechanism. Set `cm` to $1 \\; \\mu F / cm^{2}$, and leave the sodium, potassium, and leak conductances at their defaults. Finally, set `Ra` to $100 \\; \\Omega cm$.\n",
        "\n",
        "For stimulation instrumentation, insert an `IClamp` at the proximal side (`x = 0`) of the axon and apply a current pulse with $0.1 \\; ms$ duration and $35 \\; nA$ amplitude that starts at $2 \\; ms$. Then, record the voltages at `x = 0.1` and `x  = 0.9`.\n",
        "\n",
        "For simulation settings, set the initial voltage to $-65 \\; mV$, time step to $0.01 \\; ms$, duration to $10 \\; ms$, and temperature to $20^{\\circ} C$. "
      ]
    },
    {
      "cell_type": "code",
      "execution_count": null,
      "metadata": {},
      "outputs": [],
      "source": [
        "uaxon = h.Section(name='uaxon')\n",
        "# Model geometry\n",
        "uaxon.diam =  # um\n",
        "uaxon.L =  # um\n",
        "uaxon.nseg = \n",
        "# Model biophysics\n",
        "\n",
        "# Stimulation\n",
        "iclamp2 = h.IClamp(uaxon(0))\n",
        "iclamp2.delay = 2\n",
        "iclamp2.amp = 35\n",
        "iclamp2.dur = 0.1\n",
        "# Recording\n",
        "Vprox = h.Vector().record(uaxon(0.1)._ref_v) # proximal \n",
        "Vdist = h.Vector().record(uaxon(0.9)._ref_v) # distal\n",
        "# Simulation settings\n",
        "h.v_init = -65\n",
        "h.steps_per_ms = 1/.01\n",
        "h.dt = 0.01\n",
        "h.tstop = 10\n",
        "h.celsius = 20"
      ]
    },
    {
      "attachments": {},
      "cell_type": "markdown",
      "metadata": {},
      "source": [
        "Below, run a simulation and plot the voltage vs. time at your two locations overlaid on the same axis. "
      ]
    },
    {
      "cell_type": "code",
      "execution_count": null,
      "metadata": {},
      "outputs": [],
      "source": [
        "h.run()\n",
        "\n",
        "# Plot here"
      ]
    },
    {
      "attachments": {},
      "cell_type": "markdown",
      "metadata": {},
      "source": [
        "You should see the action potential arrive at the more proximal (closer to the stimulus) location earlier than the distal one. We can calculate a conduction velocity by choosing a reference point within the AP waveform and comparing the time at which this point occurred at these two locations. An easy reference point to use is the AP peak, which we can get using `np.argmax`. Since there's only one AP in our simulation, we can assume the max value across the vector is the AP peak we're interested in.\n",
        "\n",
        "Below, finish the function calculating conduction velocity (CV) using the voltage recording vectors and their relative locations. Remember, velocity is just distance travelled divided by time elapsed. Then, use it to calculate the CV for the simulation we just ran and print."
      ]
    },
    {
      "cell_type": "code",
      "execution_count": null,
      "metadata": {},
      "outputs": [],
      "source": [
        "def calcCV1(V1,V2,x1,x2,L,t_vec):\n",
        "    AP_peak1_ind = np.argmax(V1)\n",
        "    AP_peak2_ind = # your code goes here\n",
        "    deltax = L*abs(x2 - x1)*1e-3 # distance (converted to mm)\n",
        "    deltat = abs(t_vec[AP_peak1_ind] - t_vec[AP_peak2_ind]) # difference in timing in ms\n",
        "    CV = # your code goes here\n",
        "    return CV\n",
        "\n",
        "# your code goes here\n"
      ]
    },
    {
      "attachments": {},
      "cell_type": "markdown",
      "metadata": {},
      "source": [
        "You should get a conduction velocity of about 1.65 m/s. \n",
        "\n",
        "Now, let's explore how the axon diameter affects the speed of AP propagation. We know axons in both the central and peripheral nervous system have a wide range of diameters, from just under $1\\; \\mu m$ up to as large as $20 \\mu m$ in humans, and as you know, up to $500 \\; \\mu m$ in the squid. \n",
        "\n",
        "Below, adjust the diameter from $2 \\; \\mu m$ to $20 \\; \\mu m$, measure the CV using your `calcCV1` function, and plot CV vs. diameter."
      ]
    },
    {
      "cell_type": "code",
      "execution_count": null,
      "metadata": {},
      "outputs": [],
      "source": [
        "diams = np.arange(2,20,1)\n",
        "CVs = []\n",
        "h.celsius = 20\n",
        "for d in diams:\n",
        "    uaxon.diam = d\n",
        "    # your code goes here\n",
        "\n",
        "uaxon.diam = 10 # reset to original\n",
        "fig = plt.figure()\n",
        "ax = fig.add_subplot(111)\n",
        "ax.plot(diams,CVs,'o')\n",
        "ax.set_xlabel('diameter (um)')\n",
        "ax.set_ylabel('CV (m/s)')\n"
      ]
    },
    {
      "attachments": {},
      "cell_type": "markdown",
      "metadata": {},
      "source": [
        "<span style=\"color:red\">***Q5:*** Describe the trend you observe. Is this what you expect and why?\n",
        "</span>"
      ]
    },
    {
      "cell_type": "markdown",
      "metadata": {},
      "source": []
    },
    {
      "attachments": {},
      "cell_type": "markdown",
      "metadata": {},
      "source": [
        "I refered to the axon we're modeling as unmyelinated, so let's take a second to review what I mean by that. A large number of axons in both the central and peripheral nervous systems have repeating sections of their membrane wrapped with an insulating layer of lipid membrane called *myelin*. Myelin is formed by a *glia cells*, which are a separate class of cells in the nervous system that play a variety of roles, including myelinating axons both during development and in maturity. \n",
        "\n",
        "In between the myelinated sections, called *internodes*, are short ($~1 \\; \\mu m$), exposed regions of cell membrane called *nodes of Ranvier*. Since the myelin wrappings are predominantly lipid bilayers (no channels), they have very high membrane resistance. And since current passing through them would pass through the layers in series, their capacitance divides by the number of layers (while resistance adds in series), giving a much lower membrane capacitance. These two properties cause membrane currents to become restricted to the nodes of Ranvier and membrane voltage in the myelinated region to evolve more rapidly, leading to *saltatory propagation* of action potentials in myelinated axons, as in, the action potential \"jumps\" from node to node. This results in much faster propagation speeds without having to adjust diameter. Myelin is especially useful because biological organisms would generally like to transmit signals quickly (e.g., if you're being chased by a predator you want to be able to perceive and respond to the threat as fast as possible). But, our bodies have finite space and metabolic resources. So, by using myelin, axons can transmit rapid action potentials in smaller diameter axons.   \n",
        "\n",
        "Below, we'll simulate a myelinated axon by making a set of myelin and node sections and connecting them, a NEURON function we haven't used yet. Another useful piece of information is that the length of internodal sections $INL$ is roughly 100 times the axon diameter in peripheral nerves ($INL = 100 \\cdot diam$). Start with a myelinated axon composed of 21 nodes and 20 internodes, with a nodal diameter of $5 \\; \\mu m$ and length of $3 \\; \\mu m$. Use an `nseg` of 1 in the nodes 11 in the internodes.\n",
        "\n",
        "For biophysical properties, we'll insert `hh` in the nodes and `pas` in the internodes. In all sections, set `Ra` = $100 \\; \\Omega cm$. In the nodes, set `gnabar_hh` to $1.2  S/cm^{2}$, `gkbar_hh` to $ 0.09 S/cm^{2}$, `gl_hh` to $ 0.02 S/cm^{2}$, and $el_hh` to -65 $mV$.\n",
        "\n",
        "In the internodes, set `e_pas` to -65, membrane capacitance to $0.01 \\; \\mu F/cm^{-2}$, and passive membrane conductance `g_pas` to $1\\cdot 10^{-5} \\; S/cm^{2}$.\n",
        "\n",
        "For stimulation instrumentation, insert an `IClamp` at the proximal side (`x = 0.5` of `node[0]`) of the axon and apply a current pulse with $0.1 \\; ms$ duration and $5 \\; nA$ amplitude that starts at $2 \\; ms$. Then, record the voltages at `x = 0.1` and `x  = 0.9`.\n",
        "\n",
        "I'll wrap all this in a function to make it easier to reuse in other code."
      ]
    },
    {
      "cell_type": "code",
      "execution_count": null,
      "metadata": {},
      "outputs": [],
      "source": [
        "diam0 = 5\n",
        "N_nodes = 21\n",
        "def make_myelinated_axon(N_nodes,diam):\n",
        "    # Create sections and connect\n",
        "    node = [h.Section(name=f'node[{i}]') for i in range(N_nodes)]\n",
        "    internode = [h.Section(name=f'internode[{i}]') for i in range(N_nodes-1)]\n",
        "    for i in np.arange(0,N_nodes-1):        \n",
        "        internode[i].connect(node[i](1),0) # connect start of internode to end of node i\n",
        "        node[i+1].connect(internode[i](1),0)    \n",
        "    for n in node:\n",
        "        # Geometry\n",
        "        n.L = 3\n",
        "        n.diam = diam\n",
        "        n.nseg = 1\n",
        "        # Biophysics\n",
        "        n.cm = 1\n",
        "        n.Ra = 100\n",
        "        n.insert('hh')     \n",
        "        n.gnabar_hh = 1.2\n",
        "        n.gkbar_hh = 0.09\n",
        "        n.gl_hh = 0.02\n",
        "        n.el_hh = -65        \n",
        "    for inode in internode:\n",
        "        # Geometry\n",
        "        inode.L = 100*diam\n",
        "        inode.diam = diam\n",
        "        inode.nseg = 11\n",
        "        # Biophysics        \n",
        "        inode.Ra = 100\n",
        "        inode.insert('pas')\n",
        "        inode.e_pas = -65\n",
        "        inode.g_pas = 1e-5\n",
        "        inode.cm = 0.01\n",
        "    # stimulation\n",
        "    iclamp = h.IClamp(node[0](0.5))    \n",
        "    iclamp.delay = 2\n",
        "    iclamp.amp = 5\n",
        "    iclamp.dur = 0.1 \n",
        "    # Recording\n",
        "    V_nodes = [h.Vector().record(sec(0.5)._ref_v) for sec in node]\n",
        "    node_centers = []\n",
        "    psec_x = 0\n",
        "    for sec in node[0].subtree():\n",
        "        x_sec = sec.L/2 + psec_x\n",
        "        if 'internode' not in sec.name():\n",
        "            node_centers.append(x_sec)\n",
        "        psec_x = x_sec\n",
        "    return node, internode, node_centers, iclamp, V_nodes\n",
        "\n",
        "node, internode, node_centers,iclamp3,V_nodes = make_myelinated_axon(N_nodes,diam0)\n"
      ]
    },
    {
      "attachments": {},
      "cell_type": "markdown",
      "metadata": {},
      "source": [
        "Use `h.topology()` in the code cell below to check that our myelinated axon looks like it's supposed to. It may help to use fewer nodes to visualize the topology more easily."
      ]
    },
    {
      "cell_type": "code",
      "execution_count": null,
      "metadata": {},
      "outputs": [],
      "source": [
        "h.topology()"
      ]
    },
    {
      "attachments": {},
      "cell_type": "markdown",
      "metadata": {},
      "source": [
        "For simulation settings, set the initial voltage to $-65 \\; mV$, time step to $0.01 \\; ms$, duration to $10 \\; ms$, and temperature to $20^{\\circ} C$. Plot the voltage vs. time at the 3rd and 19th nodes on the same axes. "
      ]
    },
    {
      "cell_type": "code",
      "execution_count": null,
      "metadata": {},
      "outputs": [],
      "source": [
        "# Simulation settings\n",
        "h.v_init = -65\n",
        "h.steps_per_ms = 1/.01\n",
        "h.dt = 0.01\n",
        "h.tstop = 10\n",
        "h.celsius = 20\n",
        "\n",
        "# Run \n",
        "h.run()\n",
        "\n",
        "fig = plt.figure()\n",
        "ax = fig.add_subplot()\n",
        "ax.plot(t_vec,V_nodes[2])\n",
        "ax.plot(t_vec,V_nodes[18])\n",
        "ax.set_xlabel('time (ms)')\n",
        "ax.set_ylabel('Vm (mV)')\n"
      ]
    },
    {
      "attachments": {},
      "cell_type": "markdown",
      "metadata": {},
      "source": [
        "Now modify your old `calcCV1` function to create a new function called `calcCV2` to calculate the conduction velocity for the myelinated axon. Calculate the CV for this axon and print the output. Hint: the `node_centers` list created above gives you the location of each node in $\\mu m$. "
      ]
    },
    {
      "cell_type": "code",
      "execution_count": null,
      "metadata": {},
      "outputs": [],
      "source": [
        "def calcCV2():\n",
        "    # your code goes here\n",
        "\n"
      ]
    },
    {
      "attachments": {},
      "cell_type": "markdown",
      "metadata": {},
      "source": [
        "You should get a CV for this axon of about 4.8 m/s.\n",
        "\n",
        "Finally, let's compare the dependence of CV on axon diameter in the myelinated axon to the unmyelinated case we simulated above.\n",
        "\n",
        "Below, adjust the diameter again from $2 \\; \\mu m$ to $20 \\; \\mu m$, measure the CV using your `calcCV2` function, and plot CV vs. diameter on an axes including both the myelinated and unmyelinated axon data. "
      ]
    },
    {
      "cell_type": "code",
      "execution_count": null,
      "metadata": {},
      "outputs": [],
      "source": [
        "N_nodes = 21\n",
        "diams = # your code goes here\n",
        "CVsU = []\n",
        "CVsM = []\n",
        "h.celsius = 20\n",
        "for d in diams:\n",
        "    uaxon.diam = d\n",
        "    node, internode, node_centers,iclamp3,V_nodes = make_myelinated_axon(N_nodes,d)\n",
        "    h.run()\n",
        "    CVsU.append(# your code goes here\n",
        "    CVsM.append(# your code goes here\n",
        "\n",
        "fig = plt.figure()\n",
        "ax = fig.add_subplot(111)\n",
        "ax.plot(diams,CVsU,'o',label='unmyelinated')\n",
        "ax.plot(diams,CVsM,'o',label='myelinated')\n",
        "ax.set_xlabel('diameter (um)')\n",
        "ax.set_ylabel('CV (m/s)')\n",
        "ax.legend()\n"
      ]
    },
    {
      "attachments": {},
      "cell_type": "markdown",
      "metadata": {},
      "source": [
        "<span style=\"color:red\">***Q6:*** What effect did the presence of myelin have on conduction velocities across diameters?\n",
        "</span>"
      ]
    },
    {
      "cell_type": "markdown",
      "metadata": {},
      "source": []
    }
  ],
  "metadata": {
    "colab": {
      "include_colab_link": true,
      "provenance": [],
      "toc_visible": true
    },
    "kernelspec": {
      "display_name": "cmns_env",
      "language": "python",
      "name": "python3"
    },
    "language_info": {
      "codemirror_mode": {
        "name": "ipython",
        "version": 3
      },
      "file_extension": ".py",
      "mimetype": "text/x-python",
      "name": "python",
      "nbconvert_exporter": "python",
      "pygments_lexer": "ipython3",
      "version": "3.9.16"
    },
    "vscode": {
      "interpreter": {
        "hash": "d0488761690764cced0e7b1e141a742f06ea2f3fa8f54952eb1b54a94bfd6a2a"
      }
    }
  },
  "nbformat": 4,
  "nbformat_minor": 0
}
